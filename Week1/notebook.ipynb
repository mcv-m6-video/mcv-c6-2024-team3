{
 "cells": [
  {
   "cell_type": "code",
   "execution_count": 14,
   "metadata": {},
   "outputs": [],
   "source": [
    "import xml.etree.ElementTree as ET\n",
    "import os\n",
    "import matplotlib.pyplot as plt\n",
    "import cv2\n",
    "import numpy as np\n",
    "\n",
    "%matplotlib inline\n",
    "\n",
    "def read_ground_truth(xml_file, classes):\n",
    "    tree = ET.parse(xml_file)\n",
    "    root = tree.getroot()\n",
    "\n",
    "    bbox_info = {}\n",
    "\n",
    "    for track in root.findall('./track'):\n",
    "        label = track.attrib['label']\n",
    "        if label in classes:\n",
    "            for box in track.findall('box'):\n",
    "                frame = int(box.attrib['frame'])\n",
    "                xtl = float(box.attrib['xtl'])\n",
    "                ytl = float(box.attrib['ytl'])\n",
    "                xbr = float(box.attrib['xbr'])\n",
    "                ybr = float(box.attrib['ybr'])\n",
    "                \n",
    "                bbox_info.setdefault(frame, []).append([\n",
    "                    xtl, ytl, xbr, ybr\n",
    "                ])\n",
    "        \n",
    "    return bbox_info\n",
    "\n",
    "def draw_bbox(path, frame_list, frameNumber, bboxGT, bboxPred, draw = True):\n",
    "    frame = cv2.imread(path + frame_list[frameNumber], cv2.IMREAD_COLOR)\n",
    "    \n",
    "    for bbox in bboxGT:\n",
    "        xtl, ytl, xbr, ybr = bbox\n",
    "        xtl, ytl, xbr, ybr = int(xtl), int(ytl), int(xbr), int(ybr)\n",
    "        cv2.rectangle(frame, (xtl, ytl), (xbr, ybr), (0, 255, 0), 2)\n",
    "    \n",
    "    for bbox in bboxPred:\n",
    "        xtl, ytl, xbr, ybr = bbox\n",
    "        xtl, ytl, xbr, ybr = int(xtl), int(ytl), int(xbr), int(ybr)\n",
    "        cv2.rectangle(frame, (xtl, ytl), (xbr, ybr), (0, 0, 255), 2)\n",
    "    \n",
    "    if draw:\n",
    "        plt.imshow(frame[:, :, ::-1])\n",
    "        plt.axis('off')\n",
    "        plt.show()"
   ]
  },
  {
   "cell_type": "code",
   "execution_count": 15,
   "metadata": {},
   "outputs": [],
   "source": [
    "xml_file = 'ai_challenge_s03_c010-full_annotation.xml'\n",
    "classes = ['car'] # The other class is bike\n",
    "bbox_info = read_ground_truth(xml_file, classes)"
   ]
  },
  {
   "cell_type": "code",
   "execution_count": 20,
   "metadata": {},
   "outputs": [
    {
     "data": {
      "image/png": "[encoded data removed]",
      "text/plain": [
       "<Figure size 640x480 with 1 Axes>"
      ]
     },
     "metadata": {},
     "output_type": "display_data"
    }
   ],
   "source": [
    "framesPath = 'framesResult/'\n",
    "\n",
    "frames = os.listdir(framesPath)\n",
    "\n",
    "frame_number = 1000\n",
    "\n",
    "image = cv2.imread(framesPath + frames[frame_number], cv2.IMREAD_COLOR)\n",
    "\n",
    "if len(image.shape) > 2:\n",
    "    gray_image = cv2.cvtColor(image, cv2.COLOR_BGR2GRAY)\n",
    "\n",
    "_, binary_image = cv2.threshold(gray_image, 127, 255, cv2.THRESH_BINARY)\n",
    "\n",
    "num_labels, labels, stats, centroids = cv2.connectedComponentsWithStats(binary_image, connectivity=8)\n",
    "\n",
    "min_area_threshold = 200\n",
    "\n",
    "filtred_components = np.zeros_like(gray_image)\n",
    "\n",
    "for i in range(1, num_labels):  # Exclude background label which is 0\n",
    "    area = stats[i, cv2.CC_STAT_AREA]\n",
    "    if area >= min_area_threshold:\n",
    "        mask = labels == i\n",
    "        color = 255  # Generate a random color\n",
    "        filtred_components[mask] = color\n",
    "\n",
    "num_labels, labels, stats, centroids = cv2.connectedComponentsWithStats(filtred_components, connectivity=8)\n",
    "\n",
    "_, binary_image = cv2.threshold(filtred_components, 127, 255, cv2.THRESH_BINARY)\n",
    "\n",
    "binary_image = cv2.morphologyEx(binary_image, cv2.MORPH_DILATE, cv2.getStructuringElement(cv2.MORPH_RECT, (10, 10)))\n",
    "\n",
    "num_labels, labels, stats, centroids = cv2.connectedComponentsWithStats(binary_image, connectivity=8)\n",
    "\n",
    "output_image = np.zeros_like(image)\n",
    "\n",
    "bounding_boxes = []\n",
    "\n",
    "for i in range(1, num_labels):  # Exclude background label which is 0\n",
    "    area = stats[i, cv2.CC_STAT_AREA]\n",
    "    mask = labels == i\n",
    "    color = np.random.randint(0, 255, size=3)  # Generate a random color\n",
    "    output_image[mask] = color\n",
    "\n",
    "    x, y, w, h = stats[i, cv2.CC_STAT_LEFT], stats[i, cv2.CC_STAT_TOP], stats[i, cv2.CC_STAT_WIDTH], stats[i, cv2.CC_STAT_HEIGHT]\n",
    "\n",
    "    bounding_boxes.append((x, y, w, h))\n",
    "\n",
    "merged_boxes = []\n",
    "for box in bounding_boxes:\n",
    "    x, y, w, h = box\n",
    "    merged = False\n",
    "    for index, (merged_x, merged_y, merged_w, merged_h) in enumerate(merged_boxes):\n",
    "        if x >= merged_x and y >= merged_y and x + w <= merged_x + merged_w and y + h <= merged_y + merged_h:\n",
    "            merged_boxes[index] = (x, y, w, h)\n",
    "            merged = True\n",
    "            break\n",
    "        elif x <= merged_x and y <= merged_y and x + w >= merged_x + merged_w and y + h >= merged_y + merged_h:\n",
    "            merged_boxes[index] = (merged_x, merged_y, merged_w, merged_h)\n",
    "            merged = True\n",
    "            break\n",
    "    if not merged:\n",
    "        merged_boxes.append((x, y, w, h))\n",
    "\n",
    "\n",
    "for (x, y, w, h) in merged_boxes:\n",
    "    cv2.rectangle(output_image, (x, y), (x + w, y + h), (0, 255, 0), 2)\n",
    "\n",
    "\n",
    "plt.imshow(output_image)\n",
    "plt.axis('off')\n",
    "plt.show()"
   ]
  },
  {
   "cell_type": "code",
   "execution_count": 21,
   "metadata": {},
   "outputs": [
    {
     "data": {
      "image/png": "[encoded data removed]",
      "text/plain": [
       "<Figure size 640x480 with 1 Axes>"
      ]
     },
     "metadata": {},
     "output_type": "display_data"
    }
   ],
   "source": [
    "draw_bbox(framesPath, frames, frame_number, bbox_info[frame_number], [])"
   ]
  },
  {
   "cell_type": "code",
   "execution_count": null,
   "metadata": {},
   "outputs": [],
   "source": []
  }
 ],
 "metadata": {
  "kernelspec": {
   "display_name": "Python 3",
   "language": "python",
   "name": "python3"
  },
  "language_info": {
   "codemirror_mode": {
    "name": "ipython",
    "version": 3
   },
   "file_extension": ".py",
   "mimetype": "text/x-python",
   "name": "python",
   "nbconvert_exporter": "python",
   "pygments_lexer": "ipython3",
   "version": "3.9.13"
  }
 },
 "nbformat": 4,
 "nbformat_minor": 2
}
